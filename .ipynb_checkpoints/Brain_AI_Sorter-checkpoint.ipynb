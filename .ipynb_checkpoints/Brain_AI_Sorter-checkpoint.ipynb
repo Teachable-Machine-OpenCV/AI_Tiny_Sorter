{
 "cells": [
  {
   "cell_type": "markdown",
   "metadata": {},
   "source": [
    "## 인공지능 자동 분류기 개발 하기"
   ]
  },
  {
   "cell_type": "code",
   "execution_count": 4,
   "metadata": {},
   "outputs": [],
   "source": [
    "# 필요한 라이브러리 불러오기\n",
    "\n",
    "import cv2\n",
    "import numpy as np\n",
    "import time\n",
    "import serial\n",
    "import serial.tools.list_ports\n",
    "import tensorflow.keras\n",
    "from tensorflow.keras.models import model_from_json"
   ]
  },
  {
   "cell_type": "code",
   "execution_count": 6,
   "metadata": {},
   "outputs": [
    {
     "name": "stdout",
     "output_type": "stream",
     "text": [
      "\n",
      "Please connect your microbit to this PC via USB\n"
     ]
    },
    {
     "ename": "SerialException",
     "evalue": "could not open port '': FileNotFoundError(2, '지정된 경로를 찾을 수 없습니다.', None, 3)",
     "output_type": "error",
     "traceback": [
      "\u001b[1;31m---------------------------------------------------------------------------\u001b[0m",
      "\u001b[1;31mSerialException\u001b[0m                           Traceback (most recent call last)",
      "\u001b[1;32m<ipython-input-6-c127c4fd0067>\u001b[0m in \u001b[0;36m<module>\u001b[1;34m\u001b[0m\n\u001b[0;32m     11\u001b[0m     \u001b[0mprint\u001b[0m\u001b[1;33m(\u001b[0m\u001b[1;34m'\\nPlease connect your microbit to this PC via USB'\u001b[0m\u001b[1;33m)\u001b[0m\u001b[1;33m\u001b[0m\u001b[1;33m\u001b[0m\u001b[0m\n\u001b[0;32m     12\u001b[0m \u001b[1;33m\u001b[0m\u001b[0m\n\u001b[1;32m---> 13\u001b[1;33m \u001b[0mser\u001b[0m \u001b[1;33m=\u001b[0m \u001b[0mserial\u001b[0m\u001b[1;33m.\u001b[0m\u001b[0mSerial\u001b[0m\u001b[1;33m(\u001b[0m\u001b[0mcom\u001b[0m\u001b[1;33m,\u001b[0m \u001b[1;36m115200\u001b[0m\u001b[1;33m,\u001b[0m \u001b[0mtimeout\u001b[0m\u001b[1;33m=\u001b[0m\u001b[1;36m0\u001b[0m\u001b[1;33m,\u001b[0m \u001b[0mparity\u001b[0m\u001b[1;33m=\u001b[0m\u001b[0mserial\u001b[0m\u001b[1;33m.\u001b[0m\u001b[0mPARITY_NONE\u001b[0m\u001b[1;33m,\u001b[0m \u001b[0mrtscts\u001b[0m\u001b[1;33m=\u001b[0m\u001b[1;36m0\u001b[0m\u001b[1;33m)\u001b[0m\u001b[1;33m\u001b[0m\u001b[1;33m\u001b[0m\u001b[0m\n\u001b[0m",
      "\u001b[1;32m~\\.conda\\envs\\testAI\\lib\\site-packages\\serial\\serialwin32.py\u001b[0m in \u001b[0;36m__init__\u001b[1;34m(self, *args, **kwargs)\u001b[0m\n\u001b[0;32m     29\u001b[0m         \u001b[0mself\u001b[0m\u001b[1;33m.\u001b[0m\u001b[0m_overlapped_read\u001b[0m \u001b[1;33m=\u001b[0m \u001b[1;32mNone\u001b[0m\u001b[1;33m\u001b[0m\u001b[1;33m\u001b[0m\u001b[0m\n\u001b[0;32m     30\u001b[0m         \u001b[0mself\u001b[0m\u001b[1;33m.\u001b[0m\u001b[0m_overlapped_write\u001b[0m \u001b[1;33m=\u001b[0m \u001b[1;32mNone\u001b[0m\u001b[1;33m\u001b[0m\u001b[1;33m\u001b[0m\u001b[0m\n\u001b[1;32m---> 31\u001b[1;33m         \u001b[0msuper\u001b[0m\u001b[1;33m(\u001b[0m\u001b[0mSerial\u001b[0m\u001b[1;33m,\u001b[0m \u001b[0mself\u001b[0m\u001b[1;33m)\u001b[0m\u001b[1;33m.\u001b[0m\u001b[0m__init__\u001b[0m\u001b[1;33m(\u001b[0m\u001b[1;33m*\u001b[0m\u001b[0margs\u001b[0m\u001b[1;33m,\u001b[0m \u001b[1;33m**\u001b[0m\u001b[0mkwargs\u001b[0m\u001b[1;33m)\u001b[0m\u001b[1;33m\u001b[0m\u001b[1;33m\u001b[0m\u001b[0m\n\u001b[0m\u001b[0;32m     32\u001b[0m \u001b[1;33m\u001b[0m\u001b[0m\n\u001b[0;32m     33\u001b[0m     \u001b[1;32mdef\u001b[0m \u001b[0mopen\u001b[0m\u001b[1;33m(\u001b[0m\u001b[0mself\u001b[0m\u001b[1;33m)\u001b[0m\u001b[1;33m:\u001b[0m\u001b[1;33m\u001b[0m\u001b[1;33m\u001b[0m\u001b[0m\n",
      "\u001b[1;32m~\\.conda\\envs\\testAI\\lib\\site-packages\\serial\\serialutil.py\u001b[0m in \u001b[0;36m__init__\u001b[1;34m(self, port, baudrate, bytesize, parity, stopbits, timeout, xonxoff, rtscts, write_timeout, dsrdtr, inter_byte_timeout, exclusive, **kwargs)\u001b[0m\n\u001b[0;32m    238\u001b[0m \u001b[1;33m\u001b[0m\u001b[0m\n\u001b[0;32m    239\u001b[0m         \u001b[1;32mif\u001b[0m \u001b[0mport\u001b[0m \u001b[1;32mis\u001b[0m \u001b[1;32mnot\u001b[0m \u001b[1;32mNone\u001b[0m\u001b[1;33m:\u001b[0m\u001b[1;33m\u001b[0m\u001b[1;33m\u001b[0m\u001b[0m\n\u001b[1;32m--> 240\u001b[1;33m             \u001b[0mself\u001b[0m\u001b[1;33m.\u001b[0m\u001b[0mopen\u001b[0m\u001b[1;33m(\u001b[0m\u001b[1;33m)\u001b[0m\u001b[1;33m\u001b[0m\u001b[1;33m\u001b[0m\u001b[0m\n\u001b[0m\u001b[0;32m    241\u001b[0m \u001b[1;33m\u001b[0m\u001b[0m\n\u001b[0;32m    242\u001b[0m     \u001b[1;31m#  -  -  -  -  -  -  -  -  -  -  -  -  -  -  -  -  -  -  -  -  -  -  -  -\u001b[0m\u001b[1;33m\u001b[0m\u001b[1;33m\u001b[0m\u001b[1;33m\u001b[0m\u001b[0m\n",
      "\u001b[1;32m~\\.conda\\envs\\testAI\\lib\\site-packages\\serial\\serialwin32.py\u001b[0m in \u001b[0;36mopen\u001b[1;34m(self)\u001b[0m\n\u001b[0;32m     60\u001b[0m         \u001b[1;32mif\u001b[0m \u001b[0mself\u001b[0m\u001b[1;33m.\u001b[0m\u001b[0m_port_handle\u001b[0m \u001b[1;33m==\u001b[0m \u001b[0mwin32\u001b[0m\u001b[1;33m.\u001b[0m\u001b[0mINVALID_HANDLE_VALUE\u001b[0m\u001b[1;33m:\u001b[0m\u001b[1;33m\u001b[0m\u001b[1;33m\u001b[0m\u001b[0m\n\u001b[0;32m     61\u001b[0m             \u001b[0mself\u001b[0m\u001b[1;33m.\u001b[0m\u001b[0m_port_handle\u001b[0m \u001b[1;33m=\u001b[0m \u001b[1;32mNone\u001b[0m    \u001b[1;31m# 'cause __del__ is called anyway\u001b[0m\u001b[1;33m\u001b[0m\u001b[1;33m\u001b[0m\u001b[0m\n\u001b[1;32m---> 62\u001b[1;33m             \u001b[1;32mraise\u001b[0m \u001b[0mSerialException\u001b[0m\u001b[1;33m(\u001b[0m\u001b[1;34m\"could not open port {!r}: {!r}\"\u001b[0m\u001b[1;33m.\u001b[0m\u001b[0mformat\u001b[0m\u001b[1;33m(\u001b[0m\u001b[0mself\u001b[0m\u001b[1;33m.\u001b[0m\u001b[0mportstr\u001b[0m\u001b[1;33m,\u001b[0m \u001b[0mctypes\u001b[0m\u001b[1;33m.\u001b[0m\u001b[0mWinError\u001b[0m\u001b[1;33m(\u001b[0m\u001b[1;33m)\u001b[0m\u001b[1;33m)\u001b[0m\u001b[1;33m)\u001b[0m\u001b[1;33m\u001b[0m\u001b[1;33m\u001b[0m\u001b[0m\n\u001b[0m\u001b[0;32m     63\u001b[0m \u001b[1;33m\u001b[0m\u001b[0m\n\u001b[0;32m     64\u001b[0m         \u001b[1;32mtry\u001b[0m\u001b[1;33m:\u001b[0m\u001b[1;33m\u001b[0m\u001b[1;33m\u001b[0m\u001b[0m\n",
      "\u001b[1;31mSerialException\u001b[0m: could not open port '': FileNotFoundError(2, '지정된 경로를 찾을 수 없습니다.', None, 3)"
     ]
    }
   ],
   "source": [
    "# 마이크로비트 연결 com 포트 찾기\n",
    "\n",
    "ports = serial.tools.list_ports.comports()\n",
    "com = ''\n",
    "for port, desc, hwid in sorted(ports):       \n",
    "    if 'USB' in desc:\n",
    "        com = port\n",
    "if com != '':\n",
    "    print('\\n microbit USB detected: ', com)\n",
    "else:\n",
    "    print('\\nPlease connect your microbit to this PC via USB')\n",
    "\n",
    "ser = serial.Serial(com, 115200, timeout=0, parity=serial.PARITY_NONE, rtscts=0)"
   ]
  },
  {
   "cell_type": "code",
   "execution_count": 3,
   "metadata": {},
   "outputs": [],
   "source": [
    "def SerialSendCommand(cmd):\n",
    "    cmd = str(cmd) \n",
    "    cmd  = cmd + '\\n'\n",
    "    cmd = str.encode(cmd) \n",
    "    ser.write(cmd)  "
   ]
  },
  {
   "cell_type": "code",
   "execution_count": 9,
   "metadata": {},
   "outputs": [],
   "source": [
    "# servo motor align\n",
    "align = 85\n",
    "SerialSendCommand(align)\n",
    "\n",
    "# set crop\n",
    "top = .55\n",
    "bottom = .25"
   ]
  },
  {
   "cell_type": "code",
   "execution_count": 5,
   "metadata": {},
   "outputs": [
    {
     "name": "stdout",
     "output_type": "stream",
     "text": [
      "labels =  ['0 Blue', '1 Green', '2 None']\n"
     ]
    }
   ],
   "source": [
    "# 라벨 불러오기\n",
    "labels = []\n",
    "file = open(\"labels.txt\", \"r\")\n",
    "for x in file:\n",
    "  labels.append(x.rstrip('\\n'))\n",
    "label_count = len(labels)\n",
    "print('labels = ', labels)\n",
    "file.close()\n",
    "\n",
    "# 인공지능 모델 불러오기\n",
    "model = tensorflow.keras.models.load_model('keras_model.h5', compile = False)"
   ]
  },
  {
   "cell_type": "code",
   "execution_count": 6,
   "metadata": {},
   "outputs": [],
   "source": [
    "def ReadPicture(cropped, model, frame):\n",
    "    \n",
    "    score = 0\n",
    "    scoreLabel = 0 \n",
    "    \n",
    "    # 구글 teachable Machine 'Export your model to use it in projects' 코드 참조 시작\n",
    "    input_width = 224\n",
    "    input_height = 224\n",
    "    resized_image = cv2.resize(cropped, (input_width, input_height))\n",
    "    imgRGB =cv2.cvtColor(resized_image, cv2.COLOR_BGR2RGB)\n",
    "    \n",
    "    image_array = np.asarray(imgRGB)    \n",
    "    normalized_image = (image_array.astype(np.float32) / 127.0) - 1\n",
    "    batch = normalized_image.reshape(1, input_height, input_width, 3)\n",
    "    prediction = model.predict(batch)\n",
    "    # 구글 teachable Machine 'Export your model to use it in projects' 코드 참조 끝\n",
    "    \n",
    "    for x in range(0, label_count):\n",
    "        if score < prediction[0][x]:\n",
    "            scoreLabel = x\n",
    "            score = prediction[0][x]\n",
    "    return scoreLabel, score"
   ]
  },
  {
   "cell_type": "code",
   "execution_count": 7,
   "metadata": {},
   "outputs": [],
   "source": [
    " def Main():\n",
    "        \n",
    "    MODE_PAUSE = -1 \n",
    "    MODE_START = 0\n",
    "\n",
    "    mode_status = MODE_PAUSE\n",
    "  \n",
    "    video_capture = cv2.VideoCapture(0)\n",
    "    height = video_capture.get(cv2.CAP_PROP_FRAME_HEIGHT )\n",
    "    width = video_capture.get(cv2.CAP_PROP_FRAME_WIDTH )\n",
    "\n",
    "    y1 = int(height - (height * top))\n",
    "    y2 = int(height - (height * bottom))\n",
    "    square = (y2-y1)/2\n",
    "    x1 = int(width/2 - square)\n",
    "    x2 = int(width/2 + square)\n",
    "\n",
    "    tic = int(round(time.time() * 1000)) + 1500\n",
    "\n",
    "    print(\"Press [q] to quit\") \n",
    "    print(\"Press [p] to start/pause\")\n",
    "    \n",
    "    cmd = align\n",
    "    SerialSendCommand(align)\n",
    "    \n",
    "    while(True):\n",
    "\n",
    "        grabbed, frame = video_capture.read()\n",
    "        cropped = frame[y1:y2, x1:x2]\n",
    "\n",
    "        # rectangle around the cropped area\n",
    "        rectangleColor              = (0, 255, 0)\n",
    "        rectangleThickness          = 2\n",
    "        cv2.rectangle(frame, (x1,y1), (x2,y2), rectangleColor, rectangleThickness)\n",
    "\n",
    "        if mode_status == MODE_START:\n",
    "\n",
    "            rectangleColor            = (255,255,255)\n",
    "            cv2.rectangle(frame, (x1,y1), (x2,y2), rectangleColor, rectangleThickness)\n",
    "       \n",
    "            # Every 1 seconds, send prediction to micro:bit\n",
    "            now = int(round(time.time() * 1000))\n",
    "\n",
    "            #run the sorting algorithm\n",
    "            scoreLabel, score = ReadPicture(cropped, model, frame)    \n",
    "        \n",
    "            if cmd == align and now > tic:\n",
    "              \n",
    "                if scoreLabel == 0 and score > .85:\n",
    "                    cmd = align + 75\n",
    "                    print('Send:', labels[scoreLabel])\n",
    "                    tic = int(round(time.time() * 1000)) + 1000\n",
    "                    SerialSendCommand(cmd)\n",
    "\n",
    "                elif scoreLabel == 1 and score > .85:\n",
    "                    cmd = align - 75\n",
    "                    print('Send:', labels[scoreLabel])\n",
    "                    tic = int(round(time.time() * 1000)) + 1000\n",
    "                    SerialSendCommand(cmd)\n",
    "                    \n",
    "                elif scoreLabel == 2:\n",
    "                    pass\n",
    "\n",
    "            elif now > tic and cmd != align:\n",
    "                cmd = align\n",
    "                tic = int(round(time.time() * 1000)) + 1000\n",
    "                SerialSendCommand(cmd)\n",
    "            \n",
    "\n",
    "        # 결과 영상 보기\n",
    "        cv2.imshow(\"Frame\", frame) \n",
    "        key = cv2.waitKey(1) & 0xFF\n",
    "\n",
    "        # 제어문 키보드로 제어하기\n",
    "        if key == ord(\"q\"):\n",
    "            print('Mode: Quit')\n",
    "            break\n",
    "\n",
    "        elif key == ord('p'):\n",
    "            if mode_status != MODE_PAUSE:\n",
    "                mode_status = MODE_PAUSE       \n",
    "                print(\"Mode: Paused\")\n",
    "                SerialSendCommand(align)\n",
    "            elif mode_status == MODE_PAUSE:\n",
    "                mode_status = MODE_START\n",
    "                print (\"Mode: Start\")\n",
    "\n",
    "    video_capture.release()\n",
    "    cv2.destroyAllWindows()\n"
   ]
  },
  {
   "cell_type": "code",
   "execution_count": 10,
   "metadata": {},
   "outputs": [
    {
     "name": "stdout",
     "output_type": "stream",
     "text": [
      "Press [q] to quit\n",
      "Press [p] to start/pause\n",
      "Mode: Start\n",
      "Send: 0 Blue\n",
      "Send: 1 Green\n",
      "Send: 1 Green\n",
      "Mode: Quit\n"
     ]
    }
   ],
   "source": [
    "# 프로그램 실행\n",
    "\n",
    "if __name__ == '__main__': \n",
    "    Main()"
   ]
  },
  {
   "cell_type": "code",
   "execution_count": null,
   "metadata": {},
   "outputs": [],
   "source": []
  }
 ],
 "metadata": {
  "kernelspec": {
   "display_name": "Python 3",
   "language": "python",
   "name": "python3"
  },
  "language_info": {
   "codemirror_mode": {
    "name": "ipython",
    "version": 3
   },
   "file_extension": ".py",
   "mimetype": "text/x-python",
   "name": "python",
   "nbconvert_exporter": "python",
   "pygments_lexer": "ipython3",
   "version": "3.7.6"
  }
 },
 "nbformat": 4,
 "nbformat_minor": 2
}
